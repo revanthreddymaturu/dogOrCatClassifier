{
 "cells": [
  {
   "cell_type": "code",
   "execution_count": null,
   "id": "9923135a-f778-41ee-a188-f3566ffbed78",
   "metadata": {},
   "outputs": [],
   "source": [
    "#|default_exp app"
   ]
  },
  {
   "cell_type": "code",
   "execution_count": 1,
   "id": "40e0c895-9891-498f-9a60-e5d861b4d866",
   "metadata": {
    "tags": []
   },
   "outputs": [],
   "source": [
    "#|export\n",
    "from fastai.vision.all import *\n",
    "import gradio as gr\n",
    "\n",
    "def is_cat(x): return x[0].isupper()"
   ]
  },
  {
   "cell_type": "code",
   "execution_count": null,
   "id": "d59b9501-ed84-43a5-a74d-dbfdcfe421f2",
   "metadata": {},
   "outputs": [],
   "source": [
    "im=PILImage.create('dog.jpg')\n",
    "im.thumbnail((192,192))\n",
    "im"
   ]
  },
  {
   "cell_type": "code",
   "execution_count": null,
   "id": "c7f3b737-4ace-4080-af97-4fd48a2296b5",
   "metadata": {},
   "outputs": [],
   "source": [
    "#|export\n",
    "learn=load_learner('model.pkl')"
   ]
  },
  {
   "cell_type": "code",
   "execution_count": null,
   "id": "99b5f8ec-9769-4a1f-90b0-bcb881d87921",
   "metadata": {},
   "outputs": [],
   "source": [
    "learn.predict(im)"
   ]
  },
  {
   "cell_type": "code",
   "execution_count": null,
   "id": "3f68f307-6b0c-4329-8e23-13fd464f5930",
   "metadata": {},
   "outputs": [],
   "source": [
    "#|export\n",
    "categories=('Dog','Cat')\n",
    "\n",
    "def classify_image(img):\n",
    "    pred,idx,probs=learn.predict(img)\n",
    "    return dict(zip(categories,map(float,probs)))"
   ]
  },
  {
   "cell_type": "code",
   "execution_count": null,
   "id": "0b594633-fc7f-4198-9c7b-9d15878e42fa",
   "metadata": {},
   "outputs": [],
   "source": [
    "classify_image(im)"
   ]
  },
  {
   "cell_type": "code",
   "execution_count": null,
   "id": "770013bb-b092-4bba-af83-6beaad3d4eb7",
   "metadata": {},
   "outputs": [],
   "source": [
    "#|export\n",
    "intf=gr.Interface(fn=classify_image,inputs=gr.Image(height=500,width=500,type=\"pil\"),outputs=gr.Label(),examples=['dog.jpg', 'cat.jpg','dunno.jpg'])\n",
    "intf.launch(inline=False)"
   ]
  },
  {
   "cell_type": "code",
   "execution_count": 8,
   "id": "646b37c0-a4a9-4588-8974-99728b996e93",
   "metadata": {
    "tags": []
   },
   "outputs": [
    {
     "name": "stdout",
     "output_type": "stream",
     "text": [
      "Success\n"
     ]
    }
   ],
   "source": [
    "import nbdev\n",
    "notebook_name = \"app.ipynb\"\n",
    "export_destination = \"./\" # the root directory\n",
    "nbdev.export.nb_export(notebook_name, export_destination) \n",
    "print('Success')"
   ]
  },
  {
   "cell_type": "code",
   "execution_count": null,
   "id": "870db073-baaa-4baa-9e2d-404e10378c26",
   "metadata": {},
   "outputs": [],
   "source": []
  }
 ],
 "metadata": {
  "kernelspec": {
   "display_name": "Python 3 (ipykernel)",
   "language": "python",
   "name": "python3"
  },
  "language_info": {
   "codemirror_mode": {
    "name": "ipython",
    "version": 3
   },
   "file_extension": ".py",
   "mimetype": "text/x-python",
   "name": "python",
   "nbconvert_exporter": "python",
   "pygments_lexer": "ipython3",
   "version": "3.11.4"
  }
 },
 "nbformat": 4,
 "nbformat_minor": 5
}
